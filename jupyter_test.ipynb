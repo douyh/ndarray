{
 "cells": [
  {
   "cell_type": "markdown",
   "metadata": {},
   "source": [
    "# NDArray常用API"
   ]
  },
  {
   "cell_type": "code",
   "execution_count": 67,
   "metadata": {},
   "outputs": [],
   "source": [
    "import mxnet as mx\n",
    "from mxnet import nd\n",
    "import numpy as np\n",
    "import time"
   ]
  },
  {
   "cell_type": "markdown",
   "metadata": {},
   "source": [
    "## 1.full\n",
    "生成一个指定shape并按照指定值填充的矩阵"
   ]
  },
  {
   "cell_type": "code",
   "execution_count": 8,
   "metadata": {},
   "outputs": [
    {
     "name": "stdout",
     "output_type": "stream",
     "text": [
      "\n",
      "[[1. 1. 1.]\n",
      " [1. 1. 1.]]\n",
      "<NDArray 2x3 @cpu(0)>\n"
     ]
    }
   ],
   "source": [
    "a = nd.full(shape = (2, 3), val = 1)\n",
    "print(a)"
   ]
  },
  {
   "cell_type": "markdown",
   "metadata": {},
   "source": [
    "## 2.reshape\n",
    "将矩阵reshape为指定的形状，shape是一个tuple。如果tuple中的数字是\n",
    "+ 0:该维度保持不变\n",
    "+ -1：该维度是剩余所有维度的乘积\n",
    "+ -2：复制剩余维度\n",
    "+ -3：使用两个连续维度的乘积\n",
    "+ -4：把一个维度分成两个维度，这两个维度是由-4之后的两个数字决定的。"
   ]
  },
  {
   "cell_type": "code",
   "execution_count": 13,
   "metadata": {},
   "outputs": [
    {
     "name": "stdout",
     "output_type": "stream",
     "text": [
      "1 (2, 3, 4)\n",
      "2 (2, 4, 3)\n",
      "3 (2, 3, 4)\n",
      "4 (2, 12)\n",
      "5 (2, 1, 3, 4)\n"
     ]
    }
   ],
   "source": [
    "a = nd.full(shape = (2, 3, 4), val = 2)\n",
    "print(1, a.shape)\n",
    "print(2, a.reshape(0, 4, -1).shape)\n",
    "print(3, a.reshape(0, -2).shape)\n",
    "print(4, a.reshape(0, -3).shape)\n",
    "print(5, a.reshape(-4, 2, 1, 0, 0).shape)"
   ]
  },
  {
   "cell_type": "markdown",
   "metadata": {},
   "source": [
    "## 3.reshape_like\n",
    "将矩阵reshape为和指定矩阵相同的形状"
   ]
  },
  {
   "cell_type": "code",
   "execution_count": 14,
   "metadata": {},
   "outputs": [
    {
     "name": "stdout",
     "output_type": "stream",
     "text": [
      "(2, 12)\n"
     ]
    }
   ],
   "source": [
    "a = nd.full(shape = (2, 3, 4), val = 3)\n",
    "b = nd.zeros(shape = (2, 12))\n",
    "print(a.reshape_like(b).shape)"
   ]
  },
  {
   "cell_type": "markdown",
   "metadata": {},
   "source": [
    "## 4.expand_dims\n",
    "在某个位置增加一个维度"
   ]
  },
  {
   "cell_type": "code",
   "execution_count": 16,
   "metadata": {},
   "outputs": [
    {
     "name": "stdout",
     "output_type": "stream",
     "text": [
      "(2,)\n",
      "(2, 1)\n"
     ]
    }
   ],
   "source": [
    "a = nd.array([4, 2])\n",
    "print(a.shape)\n",
    "print(a.expand_dims(axis = 1).shape)"
   ]
  },
  {
   "cell_type": "markdown",
   "metadata": {},
   "source": [
    "## 5.squeeze\n",
    "去掉某个为1的维度"
   ]
  },
  {
   "cell_type": "code",
   "execution_count": 18,
   "metadata": {},
   "outputs": [
    {
     "name": "stdout",
     "output_type": "stream",
     "text": [
      "(1, 2)\n",
      "(2,)\n"
     ]
    }
   ],
   "source": [
    "a = nd.array([[1, 2]])\n",
    "print(a.shape)\n",
    "print(a.squeeze(axis = 0).shape)"
   ]
  },
  {
   "cell_type": "markdown",
   "metadata": {},
   "source": [
    "## 6.split\n",
    "把一个矩阵分成多个矩阵的list,需要指定```num_outputs```和```axis```两个参数"
   ]
  },
  {
   "cell_type": "code",
   "execution_count": 24,
   "metadata": {
    "scrolled": true
   },
   "outputs": [
    {
     "name": "stdout",
     "output_type": "stream",
     "text": [
      "[\n",
      "[[[6. 6. 6. 6. 6.]\n",
      "  [6. 6. 6. 6. 6.]\n",
      "  [6. 6. 6. 6. 6.]\n",
      "  [6. 6. 6. 6. 6.]]]\n",
      "<NDArray 1x4x5 @cpu(0)>, \n",
      "[[[6. 6. 6. 6. 6.]\n",
      "  [6. 6. 6. 6. 6.]\n",
      "  [6. 6. 6. 6. 6.]\n",
      "  [6. 6. 6. 6. 6.]]]\n",
      "<NDArray 1x4x5 @cpu(0)>, \n",
      "[[[6. 6. 6. 6. 6.]\n",
      "  [6. 6. 6. 6. 6.]\n",
      "  [6. 6. 6. 6. 6.]\n",
      "  [6. 6. 6. 6. 6.]]]\n",
      "<NDArray 1x4x5 @cpu(0)>]\n"
     ]
    }
   ],
   "source": [
    "a = nd.full(shape = (3, 4, 5), val = 6)\n",
    "b = nd.split(data = a, num_outputs = 3, axis = 0)\n",
    "print(b)"
   ]
  },
  {
   "cell_type": "markdown",
   "metadata": {},
   "source": [
    "## 7.save & load\n",
    "保存和加载矩阵"
   ]
  },
  {
   "cell_type": "code",
   "execution_count": 25,
   "metadata": {},
   "outputs": [
    {
     "name": "stdout",
     "output_type": "stream",
     "text": [
      "\n",
      "[[7. 7. 7.]\n",
      " [7. 7. 7.]]\n",
      "<NDArray 2x3 @cpu(0)>\n",
      "[\n",
      "[[7. 7. 7.]\n",
      " [7. 7. 7.]]\n",
      "<NDArray 2x3 @cpu(0)>]\n"
     ]
    }
   ],
   "source": [
    "a = nd.full(shape = (2, 3), val = 7)\n",
    "nd.save(\"7\", a)\n",
    "b = nd.load(\"7\")\n",
    "print(a)\n",
    "print(b)"
   ]
  },
  {
   "cell_type": "markdown",
   "metadata": {},
   "source": [
    "## 8.diag\n",
    "  获取矩阵对角线上的数据或者根据一个1D的矩阵构建一个对角矩阵，指定其对角线元素。\n",
    "  \n",
    "  通过参数```k```可以指定对角线的偏移量，为正向右偏移，为负向左偏移。\n",
    "  \n",
    "  通过```axis1```和```axis2```两个参数来指定子矩阵，操作时去掉这两个维度，得到剩余的shape，从这个两个维度得到diag,然后加到剩余的shape之后。比如shape为(2, 3, 4, 5)的矩阵axis1 = 0，axis2 = 2，k = 0,输出的shape是 (3, 5, 2)."
   ]
  },
  {
   "cell_type": "code",
   "execution_count": 34,
   "metadata": {
    "scrolled": false
   },
   "outputs": [
    {
     "name": "stdout",
     "output_type": "stream",
     "text": [
      "\n",
      "[[1. 2. 3.]\n",
      " [4. 5. 6.]]\n",
      "<NDArray 2x3 @cpu(0)>\n",
      "\n",
      "[1. 5.]\n",
      "<NDArray 2 @cpu(0)>\n",
      "\n",
      "[2. 6.]\n",
      "<NDArray 2 @cpu(0)>\n",
      "\n",
      "[4.]\n",
      "<NDArray 1 @cpu(0)>\n",
      "\n",
      "[[1. 0.]\n",
      " [0. 2.]]\n",
      "<NDArray 2x2 @cpu(0)>\n",
      "\n",
      "[[1. 4.]\n",
      " [5. 8.]]\n",
      "<NDArray 2x2 @cpu(0)>\n"
     ]
    }
   ],
   "source": [
    "a = nd.array([[1, 2, 3], [4, 5, 6]])\n",
    "print(a)\n",
    "print(nd.diag(a))\n",
    "print(nd.diag(a, k = 1))\n",
    "print(nd.diag(a, k = -1))\n",
    "b = nd.array([1, 2])\n",
    "print(nd.diag(b))\n",
    "\n",
    "x = nd.array([[[1, 2],\n",
    "      [3, 4]],\n",
    "\n",
    "     [[5, 6],\n",
    "      [7, 8]]])\n",
    "\n",
    "print(nd.diag(x, axis1=-2, axis2=-1))"
   ]
  },
  {
   "cell_type": "markdown",
   "metadata": {},
   "source": [
    "## 9.tile\n",
    "不断重复平铺一个矩阵"
   ]
  },
  {
   "cell_type": "code",
   "execution_count": 35,
   "metadata": {},
   "outputs": [
    {
     "name": "stdout",
     "output_type": "stream",
     "text": [
      "\n",
      "[[1. 2. 1. 2.]\n",
      " [3. 4. 3. 4.]\n",
      " [1. 2. 1. 2.]\n",
      " [3. 4. 3. 4.]]\n",
      "<NDArray 4x4 @cpu(0)>\n"
     ]
    }
   ],
   "source": [
    "a = nd.array([[1, 2], [3, 4]])\n",
    "print(nd.tile(a, reps = (2, 2)))"
   ]
  },
  {
   "cell_type": "markdown",
   "metadata": {},
   "source": [
    "## 10.pad\n",
    "对矩阵的边缘进行填充。只支持4D或者5D的矩阵。参数```pad_width```指定了各个轴前、后两个方向需要填充的宽度，前两个轴必须为0。"
   ]
  },
  {
   "cell_type": "code",
   "execution_count": 40,
   "metadata": {},
   "outputs": [
    {
     "name": "stdout",
     "output_type": "stream",
     "text": [
      "\n",
      "[[[[ 0.  0.  0.  0.  0.]\n",
      "   [ 0.  1.  2.  3.  0.]\n",
      "   [ 0.  4.  5.  6.  0.]\n",
      "   [ 0.  0.  0.  0.  0.]]\n",
      "\n",
      "  [[ 0.  0.  0.  0.  0.]\n",
      "   [ 0.  7.  8.  9.  0.]\n",
      "   [ 0. 10. 11. 12.  0.]\n",
      "   [ 0.  0.  0.  0.  0.]]]\n",
      "\n",
      "\n",
      " [[[ 0.  0.  0.  0.  0.]\n",
      "   [ 0. 11. 12. 13.  0.]\n",
      "   [ 0. 14. 15. 16.  0.]\n",
      "   [ 0.  0.  0.  0.  0.]]\n",
      "\n",
      "  [[ 0.  0.  0.  0.  0.]\n",
      "   [ 0. 17. 18. 19.  0.]\n",
      "   [ 0. 20. 21. 22.  0.]\n",
      "   [ 0.  0.  0.  0.  0.]]]]\n",
      "<NDArray 2x2x4x5 @cpu(0)>\n"
     ]
    }
   ],
   "source": [
    "x = nd.array([[[[  1.,   2. ,  3.],\n",
    "       [  4. ,  5.  , 6.]],\n",
    "\n",
    "      [[  7.  , 8.  , 9.],\n",
    "       [ 10.,  11.,  12.]]],\n",
    "\n",
    "\n",
    "     [[[ 11. , 12.,  13.],\n",
    "       [ 14.,  15.,  16.]],\n",
    "\n",
    "      [[ 17.,  18.,  19.],\n",
    "       [ 20.,  21.,  22.]]]])\n",
    "print(nd.pad(x, mode=\"constant\", constant_value=0, pad_width=(0,0,0,0,1,1,1,1)))"
   ]
  },
  {
   "cell_type": "markdown",
   "metadata": {},
   "source": [
    "## 11.transpose\n",
    "交换矩阵的维度,输入的参数是一个tuple,该tuple的数字代表交换钱的维度，API会将这些维度按照tuple中的次序进行排列。"
   ]
  },
  {
   "cell_type": "code",
   "execution_count": 42,
   "metadata": {},
   "outputs": [
    {
     "name": "stdout",
     "output_type": "stream",
     "text": [
      "(3, 4, 2)\n"
     ]
    }
   ],
   "source": [
    "a = nd.zeros(shape = (2, 3, 4))\n",
    "b = a.transpose((1, 2, 0))\n",
    "print(b.shape)"
   ]
  },
  {
   "cell_type": "markdown",
   "metadata": {},
   "source": [
    "## 12.swapaxes\n",
    "交换矩阵的两个维度，输入参数```dim1```,```dim2```"
   ]
  },
  {
   "cell_type": "code",
   "execution_count": 43,
   "metadata": {},
   "outputs": [
    {
     "name": "stdout",
     "output_type": "stream",
     "text": [
      "(3, 2, 4)\n"
     ]
    }
   ],
   "source": [
    "a = nd.zeros(shape = (2, 3, 4))\n",
    "b = a.swapaxes(dim1 = 0, dim2 = 1)\n",
    "print(b.shape)"
   ]
  },
  {
   "cell_type": "markdown",
   "metadata": {},
   "source": [
    "## 13.flip\n",
    "按照指定的轴进行翻转"
   ]
  },
  {
   "cell_type": "code",
   "execution_count": 44,
   "metadata": {},
   "outputs": [
    {
     "name": "stdout",
     "output_type": "stream",
     "text": [
      "\n",
      "[[1. 2. 3.]\n",
      " [4. 5. 6.]]\n",
      "<NDArray 2x3 @cpu(0)>\n",
      "\n",
      "[[4. 5. 6.]\n",
      " [1. 2. 3.]]\n",
      "<NDArray 2x3 @cpu(0)>\n",
      "\n",
      "[[3. 2. 1.]\n",
      " [6. 5. 4.]]\n",
      "<NDArray 2x3 @cpu(0)>\n"
     ]
    }
   ],
   "source": [
    "a = nd.array([[1, 2, 3], [4, 5, 6]])\n",
    "print(a)\n",
    "b = a.flip(axis = 0)\n",
    "print(b)\n",
    "c = a.flip(axis = 1)\n",
    "print(c)"
   ]
  },
  {
   "cell_type": "markdown",
   "metadata": {},
   "source": [
    "## 14.nanprod\n",
    "求矩阵的乘积，当出现不是数字的情况，直接按照1处理。\n",
    "\n",
    "同样类似的还有```nansum```，对不是数字的情况，按照0处理。"
   ]
  },
  {
   "cell_type": "code",
   "execution_count": 47,
   "metadata": {},
   "outputs": [
    {
     "name": "stdout",
     "output_type": "stream",
     "text": [
      "\n",
      "[[1. 1. 1.]\n",
      " [1. 1. 1.]]\n",
      "<NDArray 2x3 @cpu(0)>\n",
      "\n",
      "[[inf inf inf]\n",
      " [inf inf inf]]\n",
      "<NDArray 2x3 @cpu(0)>\n",
      "\n",
      "[1. 1. 1.]\n",
      "<NDArray 3 @cpu(0)>\n",
      "\n",
      "[2. 2. 2.]\n",
      "<NDArray 3 @cpu(0)>\n"
     ]
    }
   ],
   "source": [
    "a = nd.ones(shape = (2, 3))\n",
    "print(a)\n",
    "b = a / 0\n",
    "print(b)\n",
    "print(nd.nanprod(a, axis = 0))\n",
    "print(nd.nansum(a, axis = 0))"
   ]
  },
  {
   "cell_type": "markdown",
   "metadata": {},
   "source": [
    "## 15.round\n",
    "+ ```round```四舍五入\n",
    "+ ```rint```就近取整并且靠近较小的一个(.5的时候)\n",
    "+ ```floor```去尾\n",
    "+ ```ceil```进1\n",
    "+ ```trunc```靠近0取整\n",
    "+ ```fix```靠近0取整"
   ]
  },
  {
   "cell_type": "code",
   "execution_count": 51,
   "metadata": {},
   "outputs": [
    {
     "name": "stdout",
     "output_type": "stream",
     "text": [
      "raw \n",
      "[-2.1 -1.9  1.9  2.1  1.5  2.5 -1.5 -2.5]\n",
      "<NDArray 8 @cpu(0)>\n",
      "round \n",
      "[-2. -2.  2.  2.  2.  3. -2. -3.]\n",
      "<NDArray 8 @cpu(0)>\n",
      "rint \n",
      "[-2. -2.  2.  2.  1.  2. -2. -3.]\n",
      "<NDArray 8 @cpu(0)>\n",
      "ceil \n",
      "[-2. -1.  2.  3.  2.  3. -1. -2.]\n",
      "<NDArray 8 @cpu(0)>\n",
      "floor \n",
      "[-3. -2.  1.  2.  1.  2. -2. -3.]\n",
      "<NDArray 8 @cpu(0)>\n",
      "fix \n",
      "[-2. -1.  1.  2.  1.  2. -1. -2.]\n",
      "<NDArray 8 @cpu(0)>\n",
      "trunc \n",
      "[-2. -1.  1.  2.  1.  2. -1. -2.]\n",
      "<NDArray 8 @cpu(0)>\n",
      "nd_rint \n",
      "[-2. -2.  2.  2.  1.  2. -2. -3.]\n",
      "<NDArray 8 @cpu(0)>\n",
      "np_rint\n",
      " [-2. -2.  2.  2.  2.  2. -2. -2.]\n"
     ]
    }
   ],
   "source": [
    "a = nd.array([-2.1, -1.9, 1.9, 2.1, 1.5, 2.5, -1.5, -2.5])\n",
    "print(\"raw\", a)\n",
    "print(\"round\", a.round())#[-2. -2.  2.  2.  2.  3. -2. -3.]  四舍五入\n",
    "print(\"rint\", a.rint()) #[-2. -2.  2.  2.  1.  2. -2. -3.]  选择较近，注意这个和numpy的结果不同\n",
    "print(\"ceil\", a.ceil()) #[-2. -1.  2.  3.  2.  3. -1. -2.]  进1\n",
    "print(\"floor\", a.floor())#[-3. -2.  1.  2.  1.  2. -2. -3.]  去尾\n",
    "print(\"fix\", a.fix())  #[-2. -1.  1.  2.  1.  2. -1. -2.]  选择靠近0\n",
    "print(\"trunc\", a.trunc())#[-2. -1.  1.  2.  1.  2. -1. -2.]  选择靠近0\n",
    "\n",
    "a = nd.array([-2.1, -1.9, 1.9, 2.1, 1.5, 2.5, -1.5, -2.5])\n",
    "b = np.array([-2.1, -1.9, 1.9, 2.1, 1.5, 2.5, -1.5, -2.5])\n",
    "print(\"nd_rint\", a.rint()) #[-2. -2.  2.  2.  1.  2. -2. -3.]  似乎是优先选择更小的\n",
    "print(\"np_rint\\n\", np.rint(b)) #[-2. -2.  2.  2.  2.  2. -2. -2.]选择较近，并且靠近偶数"
   ]
  },
  {
   "cell_type": "markdown",
   "metadata": {},
   "source": [
    "## 16.rsqrt\n",
    "$1/\\sqrt{x}$\n",
    "\n",
    "还有类似的\n",
    "+ ```cbrt```:$\\sqrt[3]{x}$\n",
    "+ ```qcbrt```:$1/\\sqrt[3]{x}$\n",
    "+ ```reciprocal```:$1/x$"
   ]
  },
  {
   "cell_type": "code",
   "execution_count": 52,
   "metadata": {},
   "outputs": [
    {
     "name": "stdout",
     "output_type": "stream",
     "text": [
      "\n",
      "[0.5 0.5]\n",
      "<NDArray 2 @cpu(0)>\n"
     ]
    }
   ],
   "source": [
    "a = nd.array([4, 4])\n",
    "print(a.rsqrt())"
   ]
  },
  {
   "cell_type": "markdown",
   "metadata": {},
   "source": [
    "## 17.slice\n",
    "假设输入矩阵的shape是$(d_0, d_1, ..., d_{n-1})$, 参数$begin = (b_0, b_1, ..., b_{m-1})$，$end=(e_0,e_1,..., e_{m-1}$，$step=(s_0, s_1, ...,s_{m-1})$，并且```m<=n```,输出的shape是$(|e_0-b_0|/|s_0|, ..., |e_{m-1}-b_{m-1}|/|s_{m-1}|, d_m, ..., d_{n-1})$\n",
    "\n",
    "输出矩阵的第k维是从$b_k$（包含）开始以$s_k$为步长，达到$e_k$（不包含）的结果。\n",
    "\n",
    "+ 如果$s_k$是None,则$s_k=1$\n",
    "+ 如果$s_k>0$,其他为None,则$b_k=0, e_k=d_k$\n",
    "+ 其他$b_k=d_{k-1}$, $e_k=-1$"
   ]
  },
  {
   "cell_type": "code",
   "execution_count": 61,
   "metadata": {
    "scrolled": false
   },
   "outputs": [
    {
     "name": "stdout",
     "output_type": "stream",
     "text": [
      "\n",
      "[[ 9. 11.]\n",
      " [ 5.  7.]\n",
      " [ 1.  3.]]\n",
      "<NDArray 3x2 @cpu(0)>\n",
      "\n",
      "[[ 9. 11.]\n",
      " [ 5.  7.]\n",
      " [ 1.  3.]]\n",
      "<NDArray 3x2 @cpu(0)>\n"
     ]
    }
   ],
   "source": [
    "x = nd.array([[  1.,   2.,   3.,   4.],\n",
    "             [  5.,   6.,   7.,   8.],\n",
    "             [  9.,  10.,  11.,  12.]])\n",
    "\n",
    "y = nd.slice(x, begin=(None, 0), end=(None, 3), step=(-1, 2))\n",
    "print(y)\n",
    "z = nd.slice(x, begin=(2, 0), end=(-1, 3), step=(-1, 2))#与上面是相同的\n",
    "print(z)"
   ]
  },
  {
   "cell_type": "markdown",
   "metadata": {},
   "source": [
    "## 18.slice_axis\n",
    "根据```axis```, ```beign```,```end```参数来分割矩阵，这个API可以代替[]操作，尤其是在```hybrid_forward```中，```hybridize```之后无法使用[]选取特定的子矩阵，可以通过该API代替。"
   ]
  },
  {
   "cell_type": "code",
   "execution_count": 62,
   "metadata": {},
   "outputs": [
    {
     "name": "stdout",
     "output_type": "stream",
     "text": [
      "\n",
      "[[ 2.  3.]\n",
      " [ 6.  7.]\n",
      " [10. 11.]]\n",
      "<NDArray 3x2 @cpu(0)>\n"
     ]
    }
   ],
   "source": [
    "x = nd.array([[  1.,   2.,   3.,   4.],\n",
    "     [  5.,   6.,   7.,   8.],\n",
    "     [  9.,  10.,  11.,  12.]])\n",
    "\n",
    "y = nd.slice_axis(x, axis=1, begin=-3, end=-1) \n",
    "print(y)"
   ]
  },
  {
   "cell_type": "markdown",
   "metadata": {},
   "source": [
    "## 19.slice_like\n",
    "根据另外一个矩阵y的shape，从输入矩阵x中取一部分元素。**从每个维度的0位置开始**，可以通过axes指定哪些维度需要按照y的shape进行slice"
   ]
  },
  {
   "cell_type": "code",
   "execution_count": 65,
   "metadata": {},
   "outputs": [
    {
     "name": "stdout",
     "output_type": "stream",
     "text": [
      "(2, 3, 1)\n",
      "(2, 4, 1)\n"
     ]
    }
   ],
   "source": [
    "x = nd.ones(shape = (3, 4, 5))\n",
    "y1 = nd.zeros(shape = (2, 3, 1))\n",
    "print(x.slice_like(y1).shape)#2,3,1\n",
    "print(x.slice_like(y1, axes = (0, 2)).shape)#2, 4, 1"
   ]
  },
  {
   "cell_type": "markdown",
   "metadata": {},
   "source": [
    "## 20.take\n",
    "根据提供的索引，沿着指定的轴slice输入矩阵\n",
    "+ ```mode=clip```可以将index限制到shape范围内\n",
    "+ ```mode=wrap```进行wrap around，即超出范围之后从0开始继续计数。"
   ]
  },
  {
   "cell_type": "code",
   "execution_count": 133,
   "metadata": {},
   "outputs": [
    {
     "name": "stdout",
     "output_type": "stream",
     "text": [
      "\n",
      "[3.]\n",
      "<NDArray 1 @cpu(0)>\n",
      "\n",
      "[3.]\n",
      "<NDArray 1 @cpu(0)>\n",
      "\n",
      "[[1. 2.]\n",
      " [3. 4.]\n",
      " [5. 6.]]\n",
      "<NDArray 3x2 @cpu(0)>\n",
      "\n",
      "[[[1. 2.]\n",
      "  [2. 2.]]\n",
      "\n",
      " [[3. 4.]\n",
      "  [4. 4.]]\n",
      "\n",
      " [[5. 6.]\n",
      "  [6. 6.]]]\n",
      "<NDArray 3x2x2 @cpu(0)>\n",
      "**********clip***********\n",
      "\n",
      "[[[1. 2.]\n",
      "  [1. 1.]]\n",
      "\n",
      " [[3. 4.]\n",
      "  [3. 3.]]\n",
      "\n",
      " [[5. 6.]\n",
      "  [5. 5.]]]\n",
      "<NDArray 3x2x2 @cpu(0)>\n",
      "*******wrap around*******\n",
      "\n",
      "[[[1. 1.]\n",
      "  [2. 1.]]\n",
      "\n",
      " [[3. 3.]\n",
      "  [4. 3.]]\n",
      "\n",
      " [[5. 5.]\n",
      "  [6. 5.]]]\n",
      "<NDArray 3x2x2 @cpu(0)>\n"
     ]
    }
   ],
   "source": [
    "x = nd.array([1, 2, 3])\n",
    "print(nd.take(x, nd.array([2])))\n",
    "print(nd.take(x, nd.array([4]), mode = \"clip\"))#4被clip到2,默认clip，并且负数也会被clip\n",
    "\n",
    "x = nd.array([[1,2], [3, 4], [5, 6]])\n",
    "print(x)\n",
    "y = nd.take(x, nd.array([[0, 1], [1, 2]]), axis = 1)#2会被clip到1，表示对x的每一行x[i]，依次取x[i][0], x[i][1]和x[i][1],x[i][1]（2-->1）\n",
    "print(y)\n",
    "\n",
    "print(\"**********clip***********\")\n",
    "y = nd.take(x, nd.array([[0, 2], [-1, -2]]), axis=1, mode='clip')#注意[0,2]中的2被clip到了1， [-1,-2]中的-1，-2都被clip到了0\n",
    "print(y)\n",
    "print(\"*******wrap around*******\")\n",
    "y = nd.take(x, nd.array([[0, 2], [-1, -2]]), axis=1, mode='wrap')#注意[0,2]中的2按照0,1,0,1被映射为了0，[-1,-2]中的-2被映射为0\n",
    "print(y)"
   ]
  },
  {
   "cell_type": "markdown",
   "metadata": {},
   "source": [
    "## 21.pick\n",
    "根据输入的索引和轴，从输入矩阵中选取元素。\n",
    "\n",
    "给定一个输入矩阵shape(d0,d1)， 索引shape(i0,).输出矩阵为```input[i, indices[i]]```，shape为(i0,)的矩阵。\n",
    "\n",
    "pick方法同样有```clip```和```wrap```模式"
   ]
  },
  {
   "cell_type": "code",
   "execution_count": 150,
   "metadata": {},
   "outputs": [
    {
     "name": "stdout",
     "output_type": "stream",
     "text": [
      "\n",
      "[[1. 2.]\n",
      " [3. 4.]\n",
      " [5. 6.]]\n",
      "<NDArray 3x2 @cpu(0)>\n",
      "\n",
      "[2. 3. 5.]\n",
      "<NDArray 3 @cpu(0)>\n",
      "\n",
      "[2. 3. 5.]\n",
      "<NDArray 3 @cpu(0)>\n"
     ]
    }
   ],
   "source": [
    "x = nd.array([[1, 2], [3, 4], [5, 6]])\n",
    "print(x)\n",
    "\n",
    "index = [1, 0, 0]#(0,1) (1, 0)\n",
    "y = nd.pick(x, index = nd.array(index))#当axis = 1的时候与下面的例子相同。当axis = 0的时候，i和indices[i]互换（默认是1）\n",
    "print(y)\n",
    "\n",
    "y = x[list(range(3)), index]\n",
    "print(y)"
   ]
  },
  {
   "cell_type": "markdown",
   "metadata": {},
   "source": [
    "## 22.one_hot\n",
    "根据```depth```将一个输入矩阵转换为one_hot形式，该参数代表每个one_hot向量的长度。"
   ]
  },
  {
   "cell_type": "code",
   "execution_count": 66,
   "metadata": {},
   "outputs": [
    {
     "name": "stdout",
     "output_type": "stream",
     "text": [
      "\n",
      "[[1. 0. 0. 0. 0.]\n",
      " [0. 1. 0. 0. 0.]\n",
      " [0. 0. 1. 0. 0.]\n",
      " [0. 0. 0. 1. 0.]\n",
      " [0. 0. 0. 0. 1.]]\n",
      "<NDArray 5x5 @cpu(0)>\n"
     ]
    }
   ],
   "source": [
    "a = nd.array([0,1 ,2, 3, 4])\n",
    "b = nd.one_hot(a, depth = 5)\n",
    "print(b)"
   ]
  },
  {
   "cell_type": "markdown",
   "metadata": {},
   "source": [
    "## 23.wait_to_read\n",
    "该API会等待矩阵写入操作完成\n",
    "\n",
    "具体可以参考https://www.jianshu.com/p/86975d2d69a5"
   ]
  },
  {
   "cell_type": "code",
   "execution_count": 69,
   "metadata": {},
   "outputs": [
    {
     "name": "stdout",
     "output_type": "stream",
     "text": [
      "0.001993894577026367\n",
      "0.08678555488586426\n"
     ]
    }
   ],
   "source": [
    "import time\n",
    "tic = time.time()\n",
    "a = mx.nd.ones((1000,1000))\n",
    "b = mx.nd.dot(a, a)\n",
    "print(time.time() - tic)\n",
    "b.wait_to_read()#保证所有之前的写入操作完成\n",
    "print(time.time() - tic)"
   ]
  },
  {
   "cell_type": "markdown",
   "metadata": {},
   "source": [
    "## 24.clip\n",
    "将超出边界的数值clip到边界位置"
   ]
  },
  {
   "cell_type": "code",
   "execution_count": 73,
   "metadata": {},
   "outputs": [
    {
     "name": "stdout",
     "output_type": "stream",
     "text": [
      "\n",
      "[2. 2. 4. 4.]\n",
      "<NDArray 4 @cpu(0)>\n"
     ]
    }
   ],
   "source": [
    "a = nd.array([1, 2, 4, 5])\n",
    "b = nd.clip(a, a_min = 2, a_max = 4)\n",
    "print(b)"
   ]
  },
  {
   "cell_type": "markdown",
   "metadata": {},
   "source": [
    "## 25.repeat\n",
    "矩阵的元素重复,默认情况下会把重复之后得到的矩阵flatten。\n",
    "\n",
    "还可以通过axis指定重复的轴，这样结果不会flatten"
   ]
  },
  {
   "cell_type": "code",
   "execution_count": 75,
   "metadata": {},
   "outputs": [
    {
     "name": "stdout",
     "output_type": "stream",
     "text": [
      "\n",
      "[[1. 2.]\n",
      " [3. 4.]]\n",
      "<NDArray 2x2 @cpu(0)>\n",
      "\n",
      "[1. 1. 2. 2. 3. 3. 4. 4.]\n",
      "<NDArray 8 @cpu(0)>\n",
      "\n",
      "[[1. 1. 2. 2.]\n",
      " [3. 3. 4. 4.]]\n",
      "<NDArray 2x4 @cpu(0)>\n"
     ]
    }
   ],
   "source": [
    "x = nd.array([[1, 2],[3, 4]])\n",
    "print(x)\n",
    "print(nd.repeat(x, repeats = 2))\n",
    "print(nd.repeat(x, axis = 1, repeats = 2))"
   ]
  },
  {
   "cell_type": "markdown",
   "metadata": {},
   "source": [
    "## 26.stack\n",
    "把多个矩阵按照某个轴堆叠到一起。会增加维度，注意stack和concat的区别。\n"
   ]
  },
  {
   "cell_type": "code",
   "execution_count": 95,
   "metadata": {},
   "outputs": [
    {
     "name": "stdout",
     "output_type": "stream",
     "text": [
      "\n",
      "[[[1. 1. 1.]\n",
      "  [1. 1. 1.]]\n",
      "\n",
      " [[0. 0. 0.]\n",
      "  [0. 0. 0.]]]\n",
      "<NDArray 2x2x3 @cpu(0)>\n",
      "\n",
      "[[[1. 1. 1.]\n",
      "  [0. 0. 0.]]\n",
      "\n",
      " [[1. 1. 1.]\n",
      "  [0. 0. 0.]]]\n",
      "<NDArray 2x2x3 @cpu(0)>\n"
     ]
    }
   ],
   "source": [
    "a = nd.ones(shape = (2, 3))\n",
    "b = nd.zeros(shape = (2, 3))\n",
    "x = nd.stack(a, b, axis = 0)\n",
    "print(x)\n",
    "y = nd.stack(a, b, axis = 1)\n",
    "print(y)"
   ]
  },
  {
   "cell_type": "markdown",
   "metadata": {},
   "source": [
    "## 27.concat\n",
    "把多个矩阵连接到一起,需要指定concat的轴，并且不会增加维度。"
   ]
  },
  {
   "cell_type": "code",
   "execution_count": 85,
   "metadata": {},
   "outputs": [
    {
     "name": "stdout",
     "output_type": "stream",
     "text": [
      "\n",
      "[[1. 1. 1.]\n",
      " [1. 1. 1.]\n",
      " [0. 0. 0.]\n",
      " [0. 0. 0.]\n",
      " [1. 1. 1.]\n",
      " [1. 1. 1.]]\n",
      "<NDArray 6x3 @cpu(0)>\n",
      "\n",
      "[[1. 1. 1. 0. 0. 0. 1. 1. 1.]\n",
      " [1. 1. 1. 0. 0. 0. 1. 1. 1.]]\n",
      "<NDArray 2x9 @cpu(0)>\n"
     ]
    }
   ],
   "source": [
    "a = nd.ones(shape = (2, 3))\n",
    "b = nd.zeros(shape = (2, 3))\n",
    "x = nd.concat(a, b, a, dim = 0)\n",
    "print(x)\n",
    "y = nd.concat(a, b, a, dim = 1)\n",
    "print(y)"
   ]
  },
  {
   "cell_type": "markdown",
   "metadata": {},
   "source": [
    "## 28.where\n",
    "\n",
    "输入是3个矩阵condition, x, y   \n",
    "x和y是同样的shape，如果condition和x是同样的shape，那么如果condition元素为true,则返回x的对应元素，如果为false则返回y的对应元素。    \n",
    "如果condition的shape和x不同，则一定是与x的第一维相同的1D矩阵，如果为true则返回x的对应行，否则返回y的对应行。"
   ]
  },
  {
   "cell_type": "code",
   "execution_count": 99,
   "metadata": {},
   "outputs": [
    {
     "name": "stdout",
     "output_type": "stream",
     "text": [
      "\n",
      "[[1. 2.]\n",
      " [3. 4.]]\n",
      "<NDArray 2x2 @cpu(0)>\n",
      "\n",
      "[[5. 6.]\n",
      " [7. 8.]]\n",
      "<NDArray 2x2 @cpu(0)>\n",
      "\n",
      "[[5. 2.]\n",
      " [3. 8.]]\n",
      "<NDArray 2x2 @cpu(0)>\n"
     ]
    }
   ],
   "source": [
    "x = nd.array([[1, 2], [3, 4]])\n",
    "y = nd.array([[5, 6], [7, 8]])\n",
    "cond = nd.array([[0, 1], [-1, 0]])\n",
    "print(x)\n",
    "print(y)\n",
    "print(nd.where(cond, x, y))"
   ]
  },
  {
   "cell_type": "markdown",
   "metadata": {},
   "source": [
    "## 29.dot\n",
    "+ 1D：内积   \n",
    "+ 2D：矩阵乘法    \n",
    "+ 3D：类似矩阵乘法，x是(n,m,k)的矩阵，y是(k,r,s)的矩阵，乘积是(n,m,r,s)的矩阵。```dot(x,y)[i,j,a,b] = sum(x[i,j,:]*y[:,a,b])```\n",
    "\n",
    "注意ndarray的矩阵乘法和numpy的矩阵乘法的区别。\n",
    "\n",
    "ndarray矩阵相乘时，使用第一个输入矩阵的最后一个维度，与第二个输入矩阵的第一个维度相乘。\n",
    "\n",
    "numpy矩阵相乘时，使用第一个输入矩阵的最后一个维度，与第二个输入矩阵的倒数第二个维度相乘。"
   ]
  },
  {
   "cell_type": "code",
   "execution_count": 102,
   "metadata": {},
   "outputs": [
    {
     "name": "stdout",
     "output_type": "stream",
     "text": [
      "[[[[0. 0. 0. 0. 0.]\n",
      "   [0. 0. 0. 0. 0.]\n",
      "   [0. 0. 0. 0. 0.]\n",
      "   [0. 0. 0. 0. 0.]]\n",
      "\n",
      "  [[0. 0. 0. 0. 0.]\n",
      "   [0. 0. 0. 0. 0.]\n",
      "   [0. 0. 0. 0. 0.]\n",
      "   [0. 0. 0. 0. 0.]]]]\n",
      "(1, 2, 4, 5)\n",
      "\n",
      "[[[[0. 0. 0. 0. 0.]\n",
      "   [0. 0. 0. 0. 0.]\n",
      "   [0. 0. 0. 0. 0.]\n",
      "   [0. 0. 0. 0. 0.]]\n",
      "\n",
      "  [[0. 0. 0. 0. 0.]\n",
      "   [0. 0. 0. 0. 0.]\n",
      "   [0. 0. 0. 0. 0.]\n",
      "   [0. 0. 0. 0. 0.]]]]\n",
      "<NDArray 1x2x4x5 @cpu(0)>\n",
      "(1, 2, 4, 5)\n"
     ]
    }
   ],
   "source": [
    "x = np.ones(shape = (1, 2, 3))\n",
    "y = np.zeros(shape = (4, 3, 5))\n",
    "z = np.dot(x, y)\n",
    "print(z)\n",
    "print(z.shape)#1,2,4,5\n",
    "\n",
    "x = nd.ones(shape = (1, 2, 3))\n",
    "y = nd.zeros(shape = (3, 4, 5))\n",
    "z = nd.dot(x, y)\n",
    "print(z)\n",
    "print(z.shape)#1,2,4,5"
   ]
  },
  {
   "cell_type": "markdown",
   "metadata": {},
   "source": [
    "## 30.norm\n",
    "计算矩阵的范数"
   ]
  },
  {
   "cell_type": "code",
   "execution_count": 103,
   "metadata": {},
   "outputs": [
    {
     "name": "stdout",
     "output_type": "stream",
     "text": [
      "\n",
      "[[1. 2.]\n",
      " [3. 4.]]\n",
      "<NDArray 2x2 @cpu(0)>\n",
      "\n",
      "[3. 7.]\n",
      "<NDArray 2 @cpu(0)>\n",
      "\n",
      "[2.236068 5.      ]\n",
      "<NDArray 2 @cpu(0)>\n",
      "\n",
      "[5.477226]\n",
      "<NDArray 1 @cpu(0)>\n"
     ]
    }
   ],
   "source": [
    "x = nd.array([[1, 2], [3, 4]])\n",
    "print(x)\n",
    "y = x.norm(axis = 1, ord = 1)\n",
    "print(y)\n",
    "y = x.norm(axis = 1, ord = 2)\n",
    "print(y)\n",
    "y = x.norm(ord = 2)\n",
    "print(y)"
   ]
  },
  {
   "cell_type": "code",
   "execution_count": null,
   "metadata": {},
   "outputs": [],
   "source": []
  }
 ],
 "metadata": {
  "kernelspec": {
   "display_name": "Python 3",
   "language": "python",
   "name": "python3"
  },
  "language_info": {
   "codemirror_mode": {
    "name": "ipython",
    "version": 3
   },
   "file_extension": ".py",
   "mimetype": "text/x-python",
   "name": "python",
   "nbconvert_exporter": "python",
   "pygments_lexer": "ipython3",
   "version": "3.6.4"
  }
 },
 "nbformat": 4,
 "nbformat_minor": 2
}
